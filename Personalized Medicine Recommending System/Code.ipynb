{
  "cells": [
    {
      "cell_type": "markdown",
      "metadata": {
        "id": "fVskhnseHb-R"
      },
      "source": [
        "# Importing packages"
      ]
    },
    {
      "cell_type": "code",
      "execution_count": null,
      "metadata": {
        "_cell_guid": "b1076dfc-b9ad-4769-8c92-a6c4dae69d19",
        "_uuid": "8f2839f25d086af736a60e9eeb907d3b93b6e0e5",
        "execution": {
          "iopub.execute_input": "2022-05-26T15:21:29.887653Z",
          "iopub.status.busy": "2022-05-26T15:21:29.887162Z",
          "iopub.status.idle": "2022-05-26T15:21:29.923894Z",
          "shell.execute_reply": "2022-05-26T15:21:29.923084Z",
          "shell.execute_reply.started": "2022-05-26T15:21:29.887562Z"
        },
        "id": "_l6nz3W-Hb-W"
      },
      "outputs": [],
      "source": [
        "import numpy as np\n",
        "import pandas as pd "
      ]
    },
    {
      "cell_type": "markdown",
      "metadata": {
        "id": "VHiQ_FE8Hb-Y"
      },
      "source": [
        "# Loading the dataset"
      ]
    },
    {
      "cell_type": "code",
      "execution_count": null,
      "metadata": {
        "execution": {
          "iopub.execute_input": "2022-05-26T15:22:10.370195Z",
          "iopub.status.busy": "2022-05-26T15:22:10.369768Z",
          "iopub.status.idle": "2022-05-26T15:22:10.423042Z",
          "shell.execute_reply": "2022-05-26T15:22:10.422102Z",
          "shell.execute_reply.started": "2022-05-26T15:22:10.370167Z"
        },
        "id": "MElCmkIdHb-Z"
      },
      "outputs": [],
      "source": [
        "med = pd.read_csv('medicine.csv')"
      ]
    },
    {
      "cell_type": "code",
      "execution_count": null,
      "metadata": {
        "execution": {
          "iopub.execute_input": "2022-05-26T15:22:17.329081Z",
          "iopub.status.busy": "2022-05-26T15:22:17.328665Z",
          "iopub.status.idle": "2022-05-26T15:22:17.352018Z",
          "shell.execute_reply": "2022-05-26T15:22:17.350989Z",
          "shell.execute_reply.started": "2022-05-26T15:22:17.329047Z"
        },
        "id": "uMv8OIH5Hb-a",
        "outputId": "cdd6c933-fe00-451d-e8af-4e8d62070319"
      },
      "outputs": [
        {
          "data": {
            "text/html": [
              "<div>\n",
              "<style scoped>\n",
              "    .dataframe tbody tr th:only-of-type {\n",
              "        vertical-align: middle;\n",
              "    }\n",
              "\n",
              "    .dataframe tbody tr th {\n",
              "        vertical-align: top;\n",
              "    }\n",
              "\n",
              "    .dataframe thead th {\n",
              "        text-align: right;\n",
              "    }\n",
              "</style>\n",
              "<table border=\"1\" class=\"dataframe\">\n",
              "  <thead>\n",
              "    <tr style=\"text-align: right;\">\n",
              "      <th></th>\n",
              "      <th>index</th>\n",
              "      <th>Drug_Name</th>\n",
              "      <th>Reason</th>\n",
              "      <th>Description</th>\n",
              "    </tr>\n",
              "  </thead>\n",
              "  <tbody>\n",
              "    <tr>\n",
              "      <th>0</th>\n",
              "      <td>1</td>\n",
              "      <td>A CN Gel(Topical) 20gmA CN Soap 75gm</td>\n",
              "      <td>Acne</td>\n",
              "      <td>Mild to moderate acne (spots)</td>\n",
              "    </tr>\n",
              "    <tr>\n",
              "      <th>1</th>\n",
              "      <td>2</td>\n",
              "      <td>A Ret 0.05% Gel 20gmA Ret 0.1% Gel 20gmA Ret 0...</td>\n",
              "      <td>Acne</td>\n",
              "      <td>A RET 0.025% is a prescription medicine that i...</td>\n",
              "    </tr>\n",
              "    <tr>\n",
              "      <th>2</th>\n",
              "      <td>3</td>\n",
              "      <td>ACGEL CL NANO Gel 15gm</td>\n",
              "      <td>Acne</td>\n",
              "      <td>It is used to treat acne vulgaris in people 12...</td>\n",
              "    </tr>\n",
              "    <tr>\n",
              "      <th>3</th>\n",
              "      <td>4</td>\n",
              "      <td>ACGEL NANO Gel 15gm</td>\n",
              "      <td>Acne</td>\n",
              "      <td>It is used to treat acne vulgaris in people 12...</td>\n",
              "    </tr>\n",
              "    <tr>\n",
              "      <th>4</th>\n",
              "      <td>5</td>\n",
              "      <td>Acleen 1% Lotion 25ml</td>\n",
              "      <td>Acne</td>\n",
              "      <td>treat the most severe form of acne (nodular ac...</td>\n",
              "    </tr>\n",
              "  </tbody>\n",
              "</table>\n",
              "</div>"
            ],
            "text/plain": [
              "   index                                          Drug_Name Reason  \\\n",
              "0      1               A CN Gel(Topical) 20gmA CN Soap 75gm   Acne   \n",
              "1      2  A Ret 0.05% Gel 20gmA Ret 0.1% Gel 20gmA Ret 0...   Acne   \n",
              "2      3                             ACGEL CL NANO Gel 15gm   Acne   \n",
              "3      4                                ACGEL NANO Gel 15gm   Acne   \n",
              "4      5                              Acleen 1% Lotion 25ml   Acne   \n",
              "\n",
              "                                         Description  \n",
              "0                      Mild to moderate acne (spots)  \n",
              "1  A RET 0.025% is a prescription medicine that i...  \n",
              "2  It is used to treat acne vulgaris in people 12...  \n",
              "3  It is used to treat acne vulgaris in people 12...  \n",
              "4  treat the most severe form of acne (nodular ac...  "
            ]
          },
          "execution_count": 77,
          "metadata": {},
          "output_type": "execute_result"
        }
      ],
      "source": [
        "med.head()"
      ]
    },
    {
      "cell_type": "code",
      "execution_count": null,
      "metadata": {
        "execution": {
          "iopub.execute_input": "2022-05-26T15:22:24.310198Z",
          "iopub.status.busy": "2022-05-26T15:22:24.309304Z",
          "iopub.status.idle": "2022-05-26T15:22:24.316390Z",
          "shell.execute_reply": "2022-05-26T15:22:24.315341Z",
          "shell.execute_reply.started": "2022-05-26T15:22:24.310152Z"
        },
        "id": "m8tn0f2cHb-c",
        "outputId": "c85e2e9d-ca98-4fca-fece-82c23237d0fa"
      },
      "outputs": [
        {
          "data": {
            "text/plain": [
              "(9720, 4)"
            ]
          },
          "execution_count": 78,
          "metadata": {},
          "output_type": "execute_result"
        }
      ],
      "source": [
        "med.shape"
      ]
    },
    {
      "cell_type": "markdown",
      "metadata": {
        "id": "aof5v2LZHb-d"
      },
      "source": [
        "# Data Cleaning: Checking for NULL values"
      ]
    },
    {
      "cell_type": "code",
      "execution_count": null,
      "metadata": {
        "execution": {
          "iopub.execute_input": "2022-05-26T15:22:30.317290Z",
          "iopub.status.busy": "2022-05-26T15:22:30.316922Z",
          "iopub.status.idle": "2022-05-26T15:22:30.330892Z",
          "shell.execute_reply": "2022-05-26T15:22:30.329902Z",
          "shell.execute_reply.started": "2022-05-26T15:22:30.317261Z"
        },
        "id": "p8oOaWaHHb-e",
        "outputId": "f78856f5-93d5-422e-a63a-c8f4826fecf6"
      },
      "outputs": [
        {
          "data": {
            "text/plain": [
              "index          0\n",
              "Drug_Name      0\n",
              "Reason         0\n",
              "Description    0\n",
              "dtype: int64"
            ]
          },
          "execution_count": 79,
          "metadata": {},
          "output_type": "execute_result"
        }
      ],
      "source": [
        "med.isnull().sum()"
      ]
    },
    {
      "cell_type": "code",
      "execution_count": null,
      "metadata": {
        "execution": {
          "iopub.execute_input": "2022-05-26T15:22:36.541860Z",
          "iopub.status.busy": "2022-05-26T15:22:36.541469Z",
          "iopub.status.idle": "2022-05-26T15:22:36.558756Z",
          "shell.execute_reply": "2022-05-26T15:22:36.557372Z",
          "shell.execute_reply.started": "2022-05-26T15:22:36.541830Z"
        },
        "id": "6W1GaFTaHb-f"
      },
      "outputs": [],
      "source": [
        "med.dropna(inplace=True)"
      ]
    },
    {
      "cell_type": "markdown",
      "metadata": {
        "id": "OT3oroqWHb-g"
      },
      "source": [
        "# Checking for redundancy"
      ]
    },
    {
      "cell_type": "code",
      "execution_count": null,
      "metadata": {
        "execution": {
          "iopub.execute_input": "2022-05-26T15:27:45.781805Z",
          "iopub.status.busy": "2022-05-26T15:27:45.781384Z",
          "iopub.status.idle": "2022-05-26T15:27:45.801395Z",
          "shell.execute_reply": "2022-05-26T15:27:45.800506Z",
          "shell.execute_reply.started": "2022-05-26T15:27:45.781772Z"
        },
        "id": "8onkHrwtHb-h",
        "outputId": "3762b2b4-4cb6-4443-d984-b375df61232b"
      },
      "outputs": [
        {
          "data": {
            "text/plain": [
              "0"
            ]
          },
          "execution_count": 81,
          "metadata": {},
          "output_type": "execute_result"
        }
      ],
      "source": [
        "med.duplicated().sum()"
      ]
    },
    {
      "cell_type": "markdown",
      "metadata": {
        "id": "I5wPpYV6Hb-h"
      },
      "source": [
        "# Data Analysis"
      ]
    },
    {
      "cell_type": "code",
      "execution_count": null,
      "metadata": {
        "execution": {
          "iopub.execute_input": "2022-05-26T15:27:52.263507Z",
          "iopub.status.busy": "2022-05-26T15:27:52.263107Z",
          "iopub.status.idle": "2022-05-26T15:27:52.271658Z",
          "shell.execute_reply": "2022-05-26T15:27:52.270787Z",
          "shell.execute_reply.started": "2022-05-26T15:27:52.263462Z"
        },
        "id": "3opDD1VFHb-j",
        "outputId": "93ae8d21-9d47-46c5-99d1-6b2e4f9d3431"
      },
      "outputs": [
        {
          "data": {
            "text/plain": [
              "0                           Mild to moderate acne (spots)\n",
              "1       A RET 0.025% is a prescription medicine that i...\n",
              "2       It is used to treat acne vulgaris in people 12...\n",
              "3       It is used to treat acne vulgaris in people 12...\n",
              "4       treat the most severe form of acne (nodular ac...\n",
              "                              ...                        \n",
              "9715                              used for treating warts\n",
              "9716                        used to soften the skin cells\n",
              "9717                                       used for scars\n",
              "9718                                      used for wounds\n",
              "9719    used to treat and remove raised warts (usually...\n",
              "Name: Description, Length: 9720, dtype: object"
            ]
          },
          "execution_count": 82,
          "metadata": {},
          "output_type": "execute_result"
        }
      ],
      "source": [
        "med['Description']"
      ]
    },
    {
      "cell_type": "markdown",
      "metadata": {
        "id": "5-kd_vR1Hb-k"
      },
      "source": [
        "# Splitting the words in 'Description' and 'Reason' column using split() method"
      ]
    },
    {
      "cell_type": "code",
      "execution_count": null,
      "metadata": {
        "execution": {
          "iopub.execute_input": "2022-05-26T15:27:59.454448Z",
          "iopub.status.busy": "2022-05-26T15:27:59.453961Z",
          "iopub.status.idle": "2022-05-26T15:27:59.484759Z",
          "shell.execute_reply": "2022-05-26T15:27:59.483653Z",
          "shell.execute_reply.started": "2022-05-26T15:27:59.454413Z"
        },
        "id": "_3KkLIOnHb-k",
        "outputId": "290b2e78-2031-4c94-b018-8adb8cb3ffc6"
      },
      "outputs": [
        {
          "data": {
            "text/plain": [
              "0                     [Mild, to, moderate, acne, (spots)]\n",
              "1       [A, RET, 0.025%, is, a, prescription, medicine...\n",
              "2       [It, is, used, to, treat, acne, vulgaris, in, ...\n",
              "3       [It, is, used, to, treat, acne, vulgaris, in, ...\n",
              "4       [treat, the, most, severe, form, of, acne, (no...\n",
              "                              ...                        \n",
              "9715                         [used, for, treating, warts]\n",
              "9716                 [used, to, soften, the, skin, cells]\n",
              "9717                                   [used, for, scars]\n",
              "9718                                  [used, for, wounds]\n",
              "9719    [used, to, treat, and, remove, raised, warts, ...\n",
              "Name: Description, Length: 9720, dtype: object"
            ]
          },
          "execution_count": 83,
          "metadata": {},
          "output_type": "execute_result"
        }
      ],
      "source": [
        "med['Description'].apply(lambda x:x.split())"
      ]
    },
    {
      "cell_type": "code",
      "execution_count": null,
      "metadata": {
        "execution": {
          "iopub.execute_input": "2022-05-26T15:28:05.937681Z",
          "iopub.status.busy": "2022-05-26T15:28:05.937209Z",
          "iopub.status.idle": "2022-05-26T15:28:05.968340Z",
          "shell.execute_reply": "2022-05-26T15:28:05.967586Z",
          "shell.execute_reply.started": "2022-05-26T15:28:05.937648Z"
        },
        "id": "N4hBbYv4Hb-l"
      },
      "outputs": [],
      "source": [
        "med['Reason'] = med['Reason'].apply(lambda x:x.split())\n",
        "med['Description'] = med['Description'].apply(lambda x:x.split())"
      ]
    },
    {
      "cell_type": "markdown",
      "metadata": {
        "id": "y1xSwCgxHb-m"
      },
      "source": [
        "# Eliminating unwanted spaces "
      ]
    },
    {
      "cell_type": "code",
      "execution_count": null,
      "metadata": {
        "execution": {
          "iopub.execute_input": "2022-05-26T15:28:11.782091Z",
          "iopub.status.busy": "2022-05-26T15:28:11.781739Z",
          "iopub.status.idle": "2022-05-26T15:28:11.919044Z",
          "shell.execute_reply": "2022-05-26T15:28:11.918271Z",
          "shell.execute_reply.started": "2022-05-26T15:28:11.782064Z"
        },
        "id": "y9VE0dhQHb-n"
      },
      "outputs": [],
      "source": [
        "med['Description'] = med['Description'].apply(lambda x:[i.replace(\" \",\"\") for i in x])"
      ]
    },
    {
      "cell_type": "code",
      "execution_count": null,
      "metadata": {
        "id": "kJS2GOMkHb-n",
        "outputId": "239093c4-e704-42c7-c566-d011c0983b45"
      },
      "outputs": [
        {
          "data": {
            "text/plain": [
              "0                     [Mild, to, moderate, acne, (spots)]\n",
              "1       [A, RET, 0.025%, is, a, prescription, medicine...\n",
              "2       [It, is, used, to, treat, acne, vulgaris, in, ...\n",
              "3       [It, is, used, to, treat, acne, vulgaris, in, ...\n",
              "4       [treat, the, most, severe, form, of, acne, (no...\n",
              "                              ...                        \n",
              "9715                         [used, for, treating, warts]\n",
              "9716                 [used, to, soften, the, skin, cells]\n",
              "9717                                   [used, for, scars]\n",
              "9718                                  [used, for, wounds]\n",
              "9719    [used, to, treat, and, remove, raised, warts, ...\n",
              "Name: Description, Length: 9720, dtype: object"
            ]
          },
          "execution_count": 118,
          "metadata": {},
          "output_type": "execute_result"
        }
      ],
      "source": [
        "med['Description']"
      ]
    },
    {
      "cell_type": "code",
      "execution_count": null,
      "metadata": {
        "execution": {
          "iopub.execute_input": "2022-05-26T15:28:17.590729Z",
          "iopub.status.busy": "2022-05-26T15:28:17.590328Z",
          "iopub.status.idle": "2022-05-26T15:28:17.626568Z",
          "shell.execute_reply": "2022-05-26T15:28:17.625869Z",
          "shell.execute_reply.started": "2022-05-26T15:28:17.590696Z"
        },
        "id": "184QqLuCHb-p"
      },
      "outputs": [],
      "source": [
        "med['Reason'] = med['Reason'].apply(lambda x:[i.replace(\" \",\"\") for i in x])"
      ]
    },
    {
      "cell_type": "code",
      "execution_count": null,
      "metadata": {
        "id": "5TrLriuBHb-p",
        "outputId": "d0ecc0b9-867d-4411-b2c7-27ce7345b721"
      },
      "outputs": [
        {
          "data": {
            "text/plain": [
              "0        [Acne]\n",
              "1        [Acne]\n",
              "2        [Acne]\n",
              "3        [Acne]\n",
              "4        [Acne]\n",
              "         ...   \n",
              "9715    [Wound]\n",
              "9716    [Wound]\n",
              "9717    [Wound]\n",
              "9718    [Wound]\n",
              "9719    [Wound]\n",
              "Name: Reason, Length: 9720, dtype: object"
            ]
          },
          "execution_count": 119,
          "metadata": {},
          "output_type": "execute_result"
        }
      ],
      "source": [
        "med['Reason']"
      ]
    },
    {
      "cell_type": "markdown",
      "metadata": {
        "id": "3Opan_prHb-q"
      },
      "source": [
        "# Concatenating Description and Reason columns"
      ]
    },
    {
      "cell_type": "code",
      "execution_count": null,
      "metadata": {
        "execution": {
          "iopub.execute_input": "2022-05-26T15:28:23.480397Z",
          "iopub.status.busy": "2022-05-26T15:28:23.479888Z",
          "iopub.status.idle": "2022-05-26T15:28:23.492088Z",
          "shell.execute_reply": "2022-05-26T15:28:23.491297Z",
          "shell.execute_reply.started": "2022-05-26T15:28:23.480365Z"
        },
        "id": "piNi85mZHb-q"
      },
      "outputs": [],
      "source": [
        "med['tags'] = med['Description'] + med['Reason'] "
      ]
    },
    {
      "cell_type": "code",
      "execution_count": null,
      "metadata": {
        "execution": {
          "iopub.execute_input": "2022-05-26T15:28:29.352803Z",
          "iopub.status.busy": "2022-05-26T15:28:29.352375Z",
          "iopub.status.idle": "2022-05-26T15:28:29.360610Z",
          "shell.execute_reply": "2022-05-26T15:28:29.359860Z",
          "shell.execute_reply.started": "2022-05-26T15:28:29.352771Z"
        },
        "id": "pyNGGxIVHb-r"
      },
      "outputs": [],
      "source": [
        "new_df = med[['index','Drug_Name','tags']]"
      ]
    },
    {
      "cell_type": "code",
      "execution_count": null,
      "metadata": {
        "execution": {
          "iopub.execute_input": "2022-05-26T15:28:34.878349Z",
          "iopub.status.busy": "2022-05-26T15:28:34.877949Z",
          "iopub.status.idle": "2022-05-26T15:28:34.895458Z",
          "shell.execute_reply": "2022-05-26T15:28:34.894661Z",
          "shell.execute_reply.started": "2022-05-26T15:28:34.878317Z"
        },
        "id": "B0k_OIqhHb-r",
        "outputId": "be3c9f4c-a683-4e34-feb6-7811c3502492"
      },
      "outputs": [
        {
          "data": {
            "text/html": [
              "<div>\n",
              "<style scoped>\n",
              "    .dataframe tbody tr th:only-of-type {\n",
              "        vertical-align: middle;\n",
              "    }\n",
              "\n",
              "    .dataframe tbody tr th {\n",
              "        vertical-align: top;\n",
              "    }\n",
              "\n",
              "    .dataframe thead th {\n",
              "        text-align: right;\n",
              "    }\n",
              "</style>\n",
              "<table border=\"1\" class=\"dataframe\">\n",
              "  <thead>\n",
              "    <tr style=\"text-align: right;\">\n",
              "      <th></th>\n",
              "      <th>index</th>\n",
              "      <th>Drug_Name</th>\n",
              "      <th>tags</th>\n",
              "    </tr>\n",
              "  </thead>\n",
              "  <tbody>\n",
              "    <tr>\n",
              "      <th>0</th>\n",
              "      <td>1</td>\n",
              "      <td>A CN Gel(Topical) 20gmA CN Soap 75gm</td>\n",
              "      <td>[Mild, to, moderate, acne, (spots), Acne]</td>\n",
              "    </tr>\n",
              "    <tr>\n",
              "      <th>1</th>\n",
              "      <td>2</td>\n",
              "      <td>A Ret 0.05% Gel 20gmA Ret 0.1% Gel 20gmA Ret 0...</td>\n",
              "      <td>[A, RET, 0.025%, is, a, prescription, medicine...</td>\n",
              "    </tr>\n",
              "    <tr>\n",
              "      <th>2</th>\n",
              "      <td>3</td>\n",
              "      <td>ACGEL CL NANO Gel 15gm</td>\n",
              "      <td>[It, is, used, to, treat, acne, vulgaris, in, ...</td>\n",
              "    </tr>\n",
              "    <tr>\n",
              "      <th>3</th>\n",
              "      <td>4</td>\n",
              "      <td>ACGEL NANO Gel 15gm</td>\n",
              "      <td>[It, is, used, to, treat, acne, vulgaris, in, ...</td>\n",
              "    </tr>\n",
              "    <tr>\n",
              "      <th>4</th>\n",
              "      <td>5</td>\n",
              "      <td>Acleen 1% Lotion 25ml</td>\n",
              "      <td>[treat, the, most, severe, form, of, acne, (no...</td>\n",
              "    </tr>\n",
              "    <tr>\n",
              "      <th>...</th>\n",
              "      <td>...</td>\n",
              "      <td>...</td>\n",
              "      <td>...</td>\n",
              "    </tr>\n",
              "    <tr>\n",
              "      <th>9715</th>\n",
              "      <td>9716</td>\n",
              "      <td>T Muce Ointment 5gm</td>\n",
              "      <td>[used, for, treating, warts, Wound]</td>\n",
              "    </tr>\n",
              "    <tr>\n",
              "      <th>9716</th>\n",
              "      <td>9717</td>\n",
              "      <td>Wokadine 10% Solution 100mlWokadine Solution 5...</td>\n",
              "      <td>[used, to, soften, the, skin, cells, Wound]</td>\n",
              "    </tr>\n",
              "    <tr>\n",
              "      <th>9717</th>\n",
              "      <td>9718</td>\n",
              "      <td>Wokadine M Onit 10gm</td>\n",
              "      <td>[used, for, scars, Wound]</td>\n",
              "    </tr>\n",
              "    <tr>\n",
              "      <th>9718</th>\n",
              "      <td>9719</td>\n",
              "      <td>Wound Fix Solution 100ml</td>\n",
              "      <td>[used, for, wounds, Wound]</td>\n",
              "    </tr>\n",
              "    <tr>\n",
              "      <th>9719</th>\n",
              "      <td>9720</td>\n",
              "      <td>Wounsol Ointment 15gm</td>\n",
              "      <td>[used, to, treat, and, remove, raised, warts, ...</td>\n",
              "    </tr>\n",
              "  </tbody>\n",
              "</table>\n",
              "<p>9720 rows × 3 columns</p>\n",
              "</div>"
            ],
            "text/plain": [
              "      index                                          Drug_Name  \\\n",
              "0         1               A CN Gel(Topical) 20gmA CN Soap 75gm   \n",
              "1         2  A Ret 0.05% Gel 20gmA Ret 0.1% Gel 20gmA Ret 0...   \n",
              "2         3                             ACGEL CL NANO Gel 15gm   \n",
              "3         4                                ACGEL NANO Gel 15gm   \n",
              "4         5                              Acleen 1% Lotion 25ml   \n",
              "...     ...                                                ...   \n",
              "9715   9716                                T Muce Ointment 5gm   \n",
              "9716   9717  Wokadine 10% Solution 100mlWokadine Solution 5...   \n",
              "9717   9718                               Wokadine M Onit 10gm   \n",
              "9718   9719                           Wound Fix Solution 100ml   \n",
              "9719   9720                              Wounsol Ointment 15gm   \n",
              "\n",
              "                                                   tags  \n",
              "0             [Mild, to, moderate, acne, (spots), Acne]  \n",
              "1     [A, RET, 0.025%, is, a, prescription, medicine...  \n",
              "2     [It, is, used, to, treat, acne, vulgaris, in, ...  \n",
              "3     [It, is, used, to, treat, acne, vulgaris, in, ...  \n",
              "4     [treat, the, most, severe, form, of, acne, (no...  \n",
              "...                                                 ...  \n",
              "9715                [used, for, treating, warts, Wound]  \n",
              "9716        [used, to, soften, the, skin, cells, Wound]  \n",
              "9717                          [used, for, scars, Wound]  \n",
              "9718                         [used, for, wounds, Wound]  \n",
              "9719  [used, to, treat, and, remove, raised, warts, ...  \n",
              "\n",
              "[9720 rows x 3 columns]"
            ]
          },
          "execution_count": 91,
          "metadata": {},
          "output_type": "execute_result"
        }
      ],
      "source": [
        "new_df"
      ]
    },
    {
      "cell_type": "code",
      "execution_count": null,
      "metadata": {
        "execution": {
          "iopub.execute_input": "2022-05-26T15:28:40.536622Z",
          "iopub.status.busy": "2022-05-26T15:28:40.536242Z",
          "iopub.status.idle": "2022-05-26T15:28:40.555686Z",
          "shell.execute_reply": "2022-05-26T15:28:40.554737Z",
          "shell.execute_reply.started": "2022-05-26T15:28:40.536592Z"
        },
        "id": "pMHaz-bTHb-r",
        "outputId": "7ada0e86-d7c4-4cc2-bc9f-b23145c23f23"
      },
      "outputs": [
        {
          "data": {
            "text/plain": [
              "0                      Mild to moderate acne (spots) Acne\n",
              "1       A RET 0.025% is a prescription medicine that i...\n",
              "2       It is used to treat acne vulgaris in people 12...\n",
              "3       It is used to treat acne vulgaris in people 12...\n",
              "4       treat the most severe form of acne (nodular ac...\n",
              "                              ...                        \n",
              "9715                        used for treating warts Wound\n",
              "9716                  used to soften the skin cells Wound\n",
              "9717                                 used for scars Wound\n",
              "9718                                used for wounds Wound\n",
              "9719    used to treat and remove raised warts (usually...\n",
              "Name: tags, Length: 9720, dtype: object"
            ]
          },
          "execution_count": 92,
          "metadata": {},
          "output_type": "execute_result"
        }
      ],
      "source": [
        "new_df['tags'].apply(lambda x:\" \".join(x))"
      ]
    },
    {
      "cell_type": "markdown",
      "metadata": {
        "id": "ZrGzaj7zHb-s"
      },
      "source": [
        "# Reading the new dataframe"
      ]
    },
    {
      "cell_type": "code",
      "execution_count": null,
      "metadata": {
        "execution": {
          "iopub.execute_input": "2022-05-26T15:28:45.841708Z",
          "iopub.status.busy": "2022-05-26T15:28:45.841331Z",
          "iopub.status.idle": "2022-05-26T15:28:45.860869Z",
          "shell.execute_reply": "2022-05-26T15:28:45.859984Z",
          "shell.execute_reply.started": "2022-05-26T15:28:45.841677Z"
        },
        "id": "L9jx1Uz8Hb-s",
        "outputId": "eea54f97-7579-43a9-ca35-fee67361fb49"
      },
      "outputs": [
        {
          "data": {
            "text/html": [
              "<div>\n",
              "<style scoped>\n",
              "    .dataframe tbody tr th:only-of-type {\n",
              "        vertical-align: middle;\n",
              "    }\n",
              "\n",
              "    .dataframe tbody tr th {\n",
              "        vertical-align: top;\n",
              "    }\n",
              "\n",
              "    .dataframe thead th {\n",
              "        text-align: right;\n",
              "    }\n",
              "</style>\n",
              "<table border=\"1\" class=\"dataframe\">\n",
              "  <thead>\n",
              "    <tr style=\"text-align: right;\">\n",
              "      <th></th>\n",
              "      <th>index</th>\n",
              "      <th>Drug_Name</th>\n",
              "      <th>tags</th>\n",
              "    </tr>\n",
              "  </thead>\n",
              "  <tbody>\n",
              "    <tr>\n",
              "      <th>0</th>\n",
              "      <td>1</td>\n",
              "      <td>A CN Gel(Topical) 20gmA CN Soap 75gm</td>\n",
              "      <td>[Mild, to, moderate, acne, (spots), Acne]</td>\n",
              "    </tr>\n",
              "    <tr>\n",
              "      <th>1</th>\n",
              "      <td>2</td>\n",
              "      <td>A Ret 0.05% Gel 20gmA Ret 0.1% Gel 20gmA Ret 0...</td>\n",
              "      <td>[A, RET, 0.025%, is, a, prescription, medicine...</td>\n",
              "    </tr>\n",
              "    <tr>\n",
              "      <th>2</th>\n",
              "      <td>3</td>\n",
              "      <td>ACGEL CL NANO Gel 15gm</td>\n",
              "      <td>[It, is, used, to, treat, acne, vulgaris, in, ...</td>\n",
              "    </tr>\n",
              "    <tr>\n",
              "      <th>3</th>\n",
              "      <td>4</td>\n",
              "      <td>ACGEL NANO Gel 15gm</td>\n",
              "      <td>[It, is, used, to, treat, acne, vulgaris, in, ...</td>\n",
              "    </tr>\n",
              "    <tr>\n",
              "      <th>4</th>\n",
              "      <td>5</td>\n",
              "      <td>Acleen 1% Lotion 25ml</td>\n",
              "      <td>[treat, the, most, severe, form, of, acne, (no...</td>\n",
              "    </tr>\n",
              "    <tr>\n",
              "      <th>...</th>\n",
              "      <td>...</td>\n",
              "      <td>...</td>\n",
              "      <td>...</td>\n",
              "    </tr>\n",
              "    <tr>\n",
              "      <th>9715</th>\n",
              "      <td>9716</td>\n",
              "      <td>T Muce Ointment 5gm</td>\n",
              "      <td>[used, for, treating, warts, Wound]</td>\n",
              "    </tr>\n",
              "    <tr>\n",
              "      <th>9716</th>\n",
              "      <td>9717</td>\n",
              "      <td>Wokadine 10% Solution 100mlWokadine Solution 5...</td>\n",
              "      <td>[used, to, soften, the, skin, cells, Wound]</td>\n",
              "    </tr>\n",
              "    <tr>\n",
              "      <th>9717</th>\n",
              "      <td>9718</td>\n",
              "      <td>Wokadine M Onit 10gm</td>\n",
              "      <td>[used, for, scars, Wound]</td>\n",
              "    </tr>\n",
              "    <tr>\n",
              "      <th>9718</th>\n",
              "      <td>9719</td>\n",
              "      <td>Wound Fix Solution 100ml</td>\n",
              "      <td>[used, for, wounds, Wound]</td>\n",
              "    </tr>\n",
              "    <tr>\n",
              "      <th>9719</th>\n",
              "      <td>9720</td>\n",
              "      <td>Wounsol Ointment 15gm</td>\n",
              "      <td>[used, to, treat, and, remove, raised, warts, ...</td>\n",
              "    </tr>\n",
              "  </tbody>\n",
              "</table>\n",
              "<p>9720 rows × 3 columns</p>\n",
              "</div>"
            ],
            "text/plain": [
              "      index                                          Drug_Name  \\\n",
              "0         1               A CN Gel(Topical) 20gmA CN Soap 75gm   \n",
              "1         2  A Ret 0.05% Gel 20gmA Ret 0.1% Gel 20gmA Ret 0...   \n",
              "2         3                             ACGEL CL NANO Gel 15gm   \n",
              "3         4                                ACGEL NANO Gel 15gm   \n",
              "4         5                              Acleen 1% Lotion 25ml   \n",
              "...     ...                                                ...   \n",
              "9715   9716                                T Muce Ointment 5gm   \n",
              "9716   9717  Wokadine 10% Solution 100mlWokadine Solution 5...   \n",
              "9717   9718                               Wokadine M Onit 10gm   \n",
              "9718   9719                           Wound Fix Solution 100ml   \n",
              "9719   9720                              Wounsol Ointment 15gm   \n",
              "\n",
              "                                                   tags  \n",
              "0             [Mild, to, moderate, acne, (spots), Acne]  \n",
              "1     [A, RET, 0.025%, is, a, prescription, medicine...  \n",
              "2     [It, is, used, to, treat, acne, vulgaris, in, ...  \n",
              "3     [It, is, used, to, treat, acne, vulgaris, in, ...  \n",
              "4     [treat, the, most, severe, form, of, acne, (no...  \n",
              "...                                                 ...  \n",
              "9715                [used, for, treating, warts, Wound]  \n",
              "9716        [used, to, soften, the, skin, cells, Wound]  \n",
              "9717                          [used, for, scars, Wound]  \n",
              "9718                         [used, for, wounds, Wound]  \n",
              "9719  [used, to, treat, and, remove, raised, warts, ...  \n",
              "\n",
              "[9720 rows x 3 columns]"
            ]
          },
          "execution_count": 93,
          "metadata": {},
          "output_type": "execute_result"
        }
      ],
      "source": [
        "new_df"
      ]
    },
    {
      "cell_type": "code",
      "execution_count": null,
      "metadata": {
        "execution": {
          "iopub.execute_input": "2022-05-26T15:28:53.401750Z",
          "iopub.status.busy": "2022-05-26T15:28:53.401240Z",
          "iopub.status.idle": "2022-05-26T15:28:53.416558Z",
          "shell.execute_reply": "2022-05-26T15:28:53.415509Z",
          "shell.execute_reply.started": "2022-05-26T15:28:53.401710Z"
        },
        "id": "dan5CRXNHb-t",
        "outputId": "9f6ebd9c-d4aa-48ae-e99c-3921a8a30c7d"
      },
      "outputs": [
        {
          "name": "stderr",
          "output_type": "stream",
          "text": [
            "<ipython-input-120-ad44e9ca1347>:1: SettingWithCopyWarning: \n",
            "A value is trying to be set on a copy of a slice from a DataFrame.\n",
            "Try using .loc[row_indexer,col_indexer] = value instead\n",
            "\n",
            "See the caveats in the documentation: https://pandas.pydata.org/pandas-docs/stable/user_guide/indexing.html#returning-a-view-versus-a-copy\n",
            "  new_df['tags'] = new_df['tags'].apply(lambda x:\" \".join(x))\n"
          ]
        }
      ],
      "source": [
        "new_df['tags'] = new_df['tags'].apply(lambda x:\" \".join(x))"
      ]
    },
    {
      "cell_type": "code",
      "execution_count": null,
      "metadata": {
        "execution": {
          "iopub.execute_input": "2022-05-26T15:28:59.343874Z",
          "iopub.status.busy": "2022-05-26T15:28:59.343330Z",
          "iopub.status.idle": "2022-05-26T15:28:59.357037Z",
          "shell.execute_reply": "2022-05-26T15:28:59.356307Z",
          "shell.execute_reply.started": "2022-05-26T15:28:59.343830Z"
        },
        "id": "RzwcHUG6Hb-t",
        "outputId": "ee8cce98-1d2f-4a8f-b4ec-b7282e481cfe"
      },
      "outputs": [
        {
          "data": {
            "text/html": [
              "<div>\n",
              "<style scoped>\n",
              "    .dataframe tbody tr th:only-of-type {\n",
              "        vertical-align: middle;\n",
              "    }\n",
              "\n",
              "    .dataframe tbody tr th {\n",
              "        vertical-align: top;\n",
              "    }\n",
              "\n",
              "    .dataframe thead th {\n",
              "        text-align: right;\n",
              "    }\n",
              "</style>\n",
              "<table border=\"1\" class=\"dataframe\">\n",
              "  <thead>\n",
              "    <tr style=\"text-align: right;\">\n",
              "      <th></th>\n",
              "      <th>index</th>\n",
              "      <th>Drug_Name</th>\n",
              "      <th>tags</th>\n",
              "    </tr>\n",
              "  </thead>\n",
              "  <tbody>\n",
              "    <tr>\n",
              "      <th>0</th>\n",
              "      <td>1</td>\n",
              "      <td>A CN Gel(Topical) 20gmA CN Soap 75gm</td>\n",
              "      <td>Mild to moderate acne (spots) Acne</td>\n",
              "    </tr>\n",
              "    <tr>\n",
              "      <th>1</th>\n",
              "      <td>2</td>\n",
              "      <td>A Ret 0.05% Gel 20gmA Ret 0.1% Gel 20gmA Ret 0...</td>\n",
              "      <td>A RET 0.025% is a prescription medicine that i...</td>\n",
              "    </tr>\n",
              "    <tr>\n",
              "      <th>2</th>\n",
              "      <td>3</td>\n",
              "      <td>ACGEL CL NANO Gel 15gm</td>\n",
              "      <td>It is used to treat acne vulgaris in people 12...</td>\n",
              "    </tr>\n",
              "    <tr>\n",
              "      <th>3</th>\n",
              "      <td>4</td>\n",
              "      <td>ACGEL NANO Gel 15gm</td>\n",
              "      <td>It is used to treat acne vulgaris in people 12...</td>\n",
              "    </tr>\n",
              "    <tr>\n",
              "      <th>4</th>\n",
              "      <td>5</td>\n",
              "      <td>Acleen 1% Lotion 25ml</td>\n",
              "      <td>treat the most severe form of acne (nodular ac...</td>\n",
              "    </tr>\n",
              "    <tr>\n",
              "      <th>...</th>\n",
              "      <td>...</td>\n",
              "      <td>...</td>\n",
              "      <td>...</td>\n",
              "    </tr>\n",
              "    <tr>\n",
              "      <th>9715</th>\n",
              "      <td>9716</td>\n",
              "      <td>T Muce Ointment 5gm</td>\n",
              "      <td>used for treating warts Wound</td>\n",
              "    </tr>\n",
              "    <tr>\n",
              "      <th>9716</th>\n",
              "      <td>9717</td>\n",
              "      <td>Wokadine 10% Solution 100mlWokadine Solution 5...</td>\n",
              "      <td>used to soften the skin cells Wound</td>\n",
              "    </tr>\n",
              "    <tr>\n",
              "      <th>9717</th>\n",
              "      <td>9718</td>\n",
              "      <td>Wokadine M Onit 10gm</td>\n",
              "      <td>used for scars Wound</td>\n",
              "    </tr>\n",
              "    <tr>\n",
              "      <th>9718</th>\n",
              "      <td>9719</td>\n",
              "      <td>Wound Fix Solution 100ml</td>\n",
              "      <td>used for wounds Wound</td>\n",
              "    </tr>\n",
              "    <tr>\n",
              "      <th>9719</th>\n",
              "      <td>9720</td>\n",
              "      <td>Wounsol Ointment 15gm</td>\n",
              "      <td>used to treat and remove raised warts (usually...</td>\n",
              "    </tr>\n",
              "  </tbody>\n",
              "</table>\n",
              "<p>9720 rows × 3 columns</p>\n",
              "</div>"
            ],
            "text/plain": [
              "      index                                          Drug_Name  \\\n",
              "0         1               A CN Gel(Topical) 20gmA CN Soap 75gm   \n",
              "1         2  A Ret 0.05% Gel 20gmA Ret 0.1% Gel 20gmA Ret 0...   \n",
              "2         3                             ACGEL CL NANO Gel 15gm   \n",
              "3         4                                ACGEL NANO Gel 15gm   \n",
              "4         5                              Acleen 1% Lotion 25ml   \n",
              "...     ...                                                ...   \n",
              "9715   9716                                T Muce Ointment 5gm   \n",
              "9716   9717  Wokadine 10% Solution 100mlWokadine Solution 5...   \n",
              "9717   9718                               Wokadine M Onit 10gm   \n",
              "9718   9719                           Wound Fix Solution 100ml   \n",
              "9719   9720                              Wounsol Ointment 15gm   \n",
              "\n",
              "                                                   tags  \n",
              "0                    Mild to moderate acne (spots) Acne  \n",
              "1     A RET 0.025% is a prescription medicine that i...  \n",
              "2     It is used to treat acne vulgaris in people 12...  \n",
              "3     It is used to treat acne vulgaris in people 12...  \n",
              "4     treat the most severe form of acne (nodular ac...  \n",
              "...                                                 ...  \n",
              "9715                      used for treating warts Wound  \n",
              "9716                used to soften the skin cells Wound  \n",
              "9717                               used for scars Wound  \n",
              "9718                              used for wounds Wound  \n",
              "9719  used to treat and remove raised warts (usually...  \n",
              "\n",
              "[9720 rows x 3 columns]"
            ]
          },
          "execution_count": 95,
          "metadata": {},
          "output_type": "execute_result"
        }
      ],
      "source": [
        "new_df"
      ]
    },
    {
      "cell_type": "markdown",
      "metadata": {
        "id": "iB0UE0NrHb-u"
      },
      "source": [
        "# Converting the words into lower case"
      ]
    },
    {
      "cell_type": "code",
      "execution_count": null,
      "metadata": {
        "execution": {
          "iopub.execute_input": "2022-05-26T15:29:03.967503Z",
          "iopub.status.busy": "2022-05-26T15:29:03.967097Z",
          "iopub.status.idle": "2022-05-26T15:29:03.980230Z",
          "shell.execute_reply": "2022-05-26T15:29:03.979538Z",
          "shell.execute_reply.started": "2022-05-26T15:29:03.967459Z"
        },
        "id": "mv3ettaEHb-u",
        "outputId": "d763e0dd-cfd5-4411-dac7-a1e926ffa4bb"
      },
      "outputs": [
        {
          "name": "stderr",
          "output_type": "stream",
          "text": [
            "<ipython-input-121-8b60b591a07f>:1: SettingWithCopyWarning: \n",
            "A value is trying to be set on a copy of a slice from a DataFrame.\n",
            "Try using .loc[row_indexer,col_indexer] = value instead\n",
            "\n",
            "See the caveats in the documentation: https://pandas.pydata.org/pandas-docs/stable/user_guide/indexing.html#returning-a-view-versus-a-copy\n",
            "  new_df['tags'] = new_df['tags'].apply(lambda x:x.lower())\n"
          ]
        }
      ],
      "source": [
        "new_df['tags'] = new_df['tags'].apply(lambda x:x.lower())"
      ]
    },
    {
      "cell_type": "code",
      "execution_count": null,
      "metadata": {
        "execution": {
          "iopub.execute_input": "2022-05-26T15:29:09.900261Z",
          "iopub.status.busy": "2022-05-26T15:29:09.899763Z",
          "iopub.status.idle": "2022-05-26T15:29:09.913513Z",
          "shell.execute_reply": "2022-05-26T15:29:09.912614Z",
          "shell.execute_reply.started": "2022-05-26T15:29:09.900231Z"
        },
        "id": "vwo7-gSIHb-v",
        "outputId": "01324b15-ded4-4c40-edb4-d648b189db7e"
      },
      "outputs": [
        {
          "data": {
            "text/html": [
              "<div>\n",
              "<style scoped>\n",
              "    .dataframe tbody tr th:only-of-type {\n",
              "        vertical-align: middle;\n",
              "    }\n",
              "\n",
              "    .dataframe tbody tr th {\n",
              "        vertical-align: top;\n",
              "    }\n",
              "\n",
              "    .dataframe thead th {\n",
              "        text-align: right;\n",
              "    }\n",
              "</style>\n",
              "<table border=\"1\" class=\"dataframe\">\n",
              "  <thead>\n",
              "    <tr style=\"text-align: right;\">\n",
              "      <th></th>\n",
              "      <th>index</th>\n",
              "      <th>Drug_Name</th>\n",
              "      <th>tags</th>\n",
              "    </tr>\n",
              "  </thead>\n",
              "  <tbody>\n",
              "    <tr>\n",
              "      <th>0</th>\n",
              "      <td>1</td>\n",
              "      <td>A CN Gel(Topical) 20gmA CN Soap 75gm</td>\n",
              "      <td>m i l d   t o   m o d e r   a c n   ( s p o t ...</td>\n",
              "    </tr>\n",
              "    <tr>\n",
              "      <th>1</th>\n",
              "      <td>2</td>\n",
              "      <td>A Ret 0.05% Gel 20gmA Ret 0.1% Gel 20gmA Ret 0...</td>\n",
              "      <td>a   r e t   0 . 0 2 5 %   i s   a   p r e s c ...</td>\n",
              "    </tr>\n",
              "    <tr>\n",
              "      <th>2</th>\n",
              "      <td>3</td>\n",
              "      <td>ACGEL CL NANO Gel 15gm</td>\n",
              "      <td>i t   i s   u s e   t o   t r e a t   a c n   ...</td>\n",
              "    </tr>\n",
              "    <tr>\n",
              "      <th>3</th>\n",
              "      <td>4</td>\n",
              "      <td>ACGEL NANO Gel 15gm</td>\n",
              "      <td>i t   i s   u s e   t o   t r e a t   a c n   ...</td>\n",
              "    </tr>\n",
              "    <tr>\n",
              "      <th>4</th>\n",
              "      <td>5</td>\n",
              "      <td>Acleen 1% Lotion 25ml</td>\n",
              "      <td>t r e a t   t h e   m o s t   s e v e r   f o ...</td>\n",
              "    </tr>\n",
              "    <tr>\n",
              "      <th>...</th>\n",
              "      <td>...</td>\n",
              "      <td>...</td>\n",
              "      <td>...</td>\n",
              "    </tr>\n",
              "    <tr>\n",
              "      <th>9715</th>\n",
              "      <td>9716</td>\n",
              "      <td>T Muce Ointment 5gm</td>\n",
              "      <td>u s e   f o r   t r e a t   w a r t   w o u n d</td>\n",
              "    </tr>\n",
              "    <tr>\n",
              "      <th>9716</th>\n",
              "      <td>9717</td>\n",
              "      <td>Wokadine 10% Solution 100mlWokadine Solution 5...</td>\n",
              "      <td>u s e   t o   s o f t e n   t h e   s k i n   ...</td>\n",
              "    </tr>\n",
              "    <tr>\n",
              "      <th>9717</th>\n",
              "      <td>9718</td>\n",
              "      <td>Wokadine M Onit 10gm</td>\n",
              "      <td>u s e   f o r   s c a r   w o u n d</td>\n",
              "    </tr>\n",
              "    <tr>\n",
              "      <th>9718</th>\n",
              "      <td>9719</td>\n",
              "      <td>Wound Fix Solution 100ml</td>\n",
              "      <td>u s e   f o r   w o u n d   w o u n d</td>\n",
              "    </tr>\n",
              "    <tr>\n",
              "      <th>9719</th>\n",
              "      <td>9720</td>\n",
              "      <td>Wounsol Ointment 15gm</td>\n",
              "      <td>u s e   t o   t r e a t   a n d   r e m o v   ...</td>\n",
              "    </tr>\n",
              "  </tbody>\n",
              "</table>\n",
              "<p>9720 rows × 3 columns</p>\n",
              "</div>"
            ],
            "text/plain": [
              "      index                                          Drug_Name  \\\n",
              "0         1               A CN Gel(Topical) 20gmA CN Soap 75gm   \n",
              "1         2  A Ret 0.05% Gel 20gmA Ret 0.1% Gel 20gmA Ret 0...   \n",
              "2         3                             ACGEL CL NANO Gel 15gm   \n",
              "3         4                                ACGEL NANO Gel 15gm   \n",
              "4         5                              Acleen 1% Lotion 25ml   \n",
              "...     ...                                                ...   \n",
              "9715   9716                                T Muce Ointment 5gm   \n",
              "9716   9717  Wokadine 10% Solution 100mlWokadine Solution 5...   \n",
              "9717   9718                               Wokadine M Onit 10gm   \n",
              "9718   9719                           Wound Fix Solution 100ml   \n",
              "9719   9720                              Wounsol Ointment 15gm   \n",
              "\n",
              "                                                   tags  \n",
              "0     m i l d   t o   m o d e r   a c n   ( s p o t ...  \n",
              "1     a   r e t   0 . 0 2 5 %   i s   a   p r e s c ...  \n",
              "2     i t   i s   u s e   t o   t r e a t   a c n   ...  \n",
              "3     i t   i s   u s e   t o   t r e a t   a c n   ...  \n",
              "4     t r e a t   t h e   m o s t   s e v e r   f o ...  \n",
              "...                                                 ...  \n",
              "9715    u s e   f o r   t r e a t   w a r t   w o u n d  \n",
              "9716  u s e   t o   s o f t e n   t h e   s k i n   ...  \n",
              "9717                u s e   f o r   s c a r   w o u n d  \n",
              "9718              u s e   f o r   w o u n d   w o u n d  \n",
              "9719  u s e   t o   t r e a t   a n d   r e m o v   ...  \n",
              "\n",
              "[9720 rows x 3 columns]"
            ]
          },
          "execution_count": 122,
          "metadata": {},
          "output_type": "execute_result"
        }
      ],
      "source": [
        "new_df"
      ]
    },
    {
      "cell_type": "markdown",
      "metadata": {
        "id": "Y3pXGaQEHb-v"
      },
      "source": [
        "# importing the nltk library"
      ]
    },
    {
      "cell_type": "code",
      "execution_count": null,
      "metadata": {
        "execution": {
          "iopub.execute_input": "2022-05-26T15:29:32.262390Z",
          "iopub.status.busy": "2022-05-26T15:29:32.262070Z",
          "iopub.status.idle": "2022-05-26T15:29:33.396808Z",
          "shell.execute_reply": "2022-05-26T15:29:33.395776Z",
          "shell.execute_reply.started": "2022-05-26T15:29:32.262358Z"
        },
        "id": "zov73fesHb-v"
      },
      "outputs": [],
      "source": [
        "import nltk"
      ]
    },
    {
      "cell_type": "code",
      "execution_count": null,
      "metadata": {
        "execution": {
          "iopub.execute_input": "2022-05-26T15:29:44.930999Z",
          "iopub.status.busy": "2022-05-26T15:29:44.930510Z",
          "iopub.status.idle": "2022-05-26T15:29:44.935856Z",
          "shell.execute_reply": "2022-05-26T15:29:44.934888Z",
          "shell.execute_reply.started": "2022-05-26T15:29:44.930950Z"
        },
        "id": "9Cg8vuPWHb-w"
      },
      "outputs": [],
      "source": [
        "from nltk.stem.porter import PorterStemmer\n",
        "ps = PorterStemmer()"
      ]
    },
    {
      "cell_type": "code",
      "execution_count": null,
      "metadata": {
        "execution": {
          "iopub.execute_input": "2022-05-26T15:29:57.554659Z",
          "iopub.status.busy": "2022-05-26T15:29:57.554233Z",
          "iopub.status.idle": "2022-05-26T15:30:14.886756Z",
          "shell.execute_reply": "2022-05-26T15:30:14.885564Z",
          "shell.execute_reply.started": "2022-05-26T15:29:57.554624Z"
        },
        "id": "wBao1DW9Hb-w",
        "outputId": "548063cb-d673-49d0-b6e8-44471fbf13af"
      },
      "outputs": [
        {
          "name": "stdout",
          "output_type": "stream",
          "text": [
            "Requirement already up-to-date: scikit-learn in c:\\users\\admin\\anaconda3\\lib\\site-packages (1.2.1)\n",
            "Requirement already up-to-date: scipy in c:\\users\\admin\\anaconda3\\lib\\site-packages (1.10.0)\n",
            "Requirement already up-to-date: matplotlib in c:\\users\\admin\\anaconda3\\lib\\site-packages (3.7.0)\n",
            "Requirement already satisfied, skipping upgrade: threadpoolctl>=2.0.0 in c:\\users\\admin\\anaconda3\\lib\\site-packages (from scikit-learn) (2.1.0)\n",
            "Requirement already satisfied, skipping upgrade: numpy>=1.17.3 in c:\\users\\admin\\anaconda3\\lib\\site-packages (from scikit-learn) (1.23.3)\n",
            "Requirement already satisfied, skipping upgrade: joblib>=1.1.1 in c:\\users\\admin\\anaconda3\\lib\\site-packages (from scikit-learn) (1.2.0)\n",
            "Requirement already satisfied, skipping upgrade: fonttools>=4.22.0 in c:\\users\\admin\\anaconda3\\lib\\site-packages (from matplotlib) (4.38.0)\n",
            "Requirement already satisfied, skipping upgrade: pyparsing>=2.3.1 in c:\\users\\admin\\anaconda3\\lib\\site-packages (from matplotlib) (2.4.7)\n",
            "Requirement already satisfied, skipping upgrade: kiwisolver>=1.0.1 in c:\\users\\admin\\anaconda3\\lib\\site-packages (from matplotlib) (1.2.0)\n",
            "Requirement already satisfied, skipping upgrade: importlib-resources>=3.2.0; python_version < \"3.10\" in c:\\users\\admin\\anaconda3\\lib\\site-packages (from matplotlib) (5.2.2)\n",
            "Requirement already satisfied, skipping upgrade: contourpy>=1.0.1 in c:\\users\\admin\\anaconda3\\lib\\site-packages (from matplotlib) (1.0.7)\n",
            "Requirement already satisfied, skipping upgrade: pillow>=6.2.0 in c:\\users\\admin\\anaconda3\\lib\\site-packages (from matplotlib) (7.2.0)\n",
            "Requirement already satisfied, skipping upgrade: python-dateutil>=2.7 in c:\\users\\admin\\anaconda3\\lib\\site-packages (from matplotlib) (2.8.1)\n",
            "Requirement already satisfied, skipping upgrade: packaging>=20.0 in c:\\users\\admin\\anaconda3\\lib\\site-packages (from matplotlib) (20.4)\n",
            "Requirement already satisfied, skipping upgrade: cycler>=0.10 in c:\\users\\admin\\anaconda3\\lib\\site-packages (from matplotlib) (0.10.0)\n",
            "Requirement already satisfied, skipping upgrade: zipp>=3.1.0; python_version < \"3.10\" in c:\\users\\admin\\anaconda3\\lib\\site-packages (from importlib-resources>=3.2.0; python_version < \"3.10\"->matplotlib) (3.1.0)\n",
            "Requirement already satisfied, skipping upgrade: six>=1.5 in c:\\users\\admin\\anaconda3\\lib\\site-packages (from python-dateutil>=2.7->matplotlib) (1.15.0)\n"
          ]
        }
      ],
      "source": [
        "!pip install -U scikit-learn scipy matplotlib"
      ]
    },
    {
      "cell_type": "markdown",
      "metadata": {
        "id": "rFJhY9xvHb-w"
      },
      "source": [
        "# Convert a text documents to a matrix of token counts."
      ]
    },
    {
      "cell_type": "code",
      "execution_count": null,
      "metadata": {
        "execution": {
          "iopub.execute_input": "2022-05-26T15:30:19.262947Z",
          "iopub.status.busy": "2022-05-26T15:30:19.262540Z",
          "iopub.status.idle": "2022-05-26T15:30:19.267598Z",
          "shell.execute_reply": "2022-05-26T15:30:19.266709Z",
          "shell.execute_reply.started": "2022-05-26T15:30:19.262907Z"
        },
        "id": "BC05exliHb-x"
      },
      "outputs": [],
      "source": [
        "from sklearn.feature_extraction.text import CountVectorizer\n",
        "cv = CountVectorizer(stop_words='english',max_features=5000)"
      ]
    },
    {
      "cell_type": "code",
      "execution_count": null,
      "metadata": {
        "execution": {
          "iopub.execute_input": "2022-05-26T15:30:34.110883Z",
          "iopub.status.busy": "2022-05-26T15:30:34.110440Z",
          "iopub.status.idle": "2022-05-26T15:30:34.115964Z",
          "shell.execute_reply": "2022-05-26T15:30:34.115054Z",
          "shell.execute_reply.started": "2022-05-26T15:30:34.110851Z"
        },
        "id": "5oIJbllhHb-x"
      },
      "outputs": [],
      "source": [
        "def stem(text):\n",
        "  y = []\n",
        "\n",
        "  for i in text.split():\n",
        "    y.append(ps.stem(i))\n",
        "\n",
        "  return \" \".join(y) "
      ]
    },
    {
      "cell_type": "markdown",
      "metadata": {
        "id": "tqq1BSn3Hb-y"
      },
      "source": [
        "# Stemming "
      ]
    },
    {
      "cell_type": "code",
      "execution_count": null,
      "metadata": {
        "execution": {
          "iopub.execute_input": "2022-05-26T15:30:40.638132Z",
          "iopub.status.busy": "2022-05-26T15:30:40.637709Z",
          "iopub.status.idle": "2022-05-26T15:30:43.759883Z",
          "shell.execute_reply": "2022-05-26T15:30:43.758904Z",
          "shell.execute_reply.started": "2022-05-26T15:30:40.638098Z"
        },
        "id": "shTQlqN2Hb-z",
        "outputId": "170db048-8cc4-458d-ef72-9f1c4e79159b"
      },
      "outputs": [
        {
          "name": "stderr",
          "output_type": "stream",
          "text": [
            "<ipython-input-127-be18a4346d89>:1: SettingWithCopyWarning: \n",
            "A value is trying to be set on a copy of a slice from a DataFrame.\n",
            "Try using .loc[row_indexer,col_indexer] = value instead\n",
            "\n",
            "See the caveats in the documentation: https://pandas.pydata.org/pandas-docs/stable/user_guide/indexing.html#returning-a-view-versus-a-copy\n",
            "  new_df['tags'] = new_df['tags'].apply(stem)\n"
          ]
        }
      ],
      "source": [
        "new_df['tags'] = new_df['tags'].apply(stem)"
      ]
    },
    {
      "cell_type": "code",
      "execution_count": null,
      "metadata": {
        "execution": {
          "iopub.execute_input": "2022-05-26T15:30:47.868994Z",
          "iopub.status.busy": "2022-05-26T15:30:47.868441Z",
          "iopub.status.idle": "2022-05-26T15:30:48.096978Z",
          "shell.execute_reply": "2022-05-26T15:30:48.096104Z",
          "shell.execute_reply.started": "2022-05-26T15:30:47.868951Z"
        },
        "id": "U6NETzF8Hb-z",
        "outputId": "24746849-1cc9-4ca0-803c-d6f9f30d7048"
      },
      "outputs": [
        {
          "data": {
            "text/plain": [
              "(9720, 806)"
            ]
          },
          "execution_count": 105,
          "metadata": {},
          "output_type": "execute_result"
        }
      ],
      "source": [
        "cv.fit_transform(new_df['tags']).toarray().shape"
      ]
    },
    {
      "cell_type": "code",
      "execution_count": null,
      "metadata": {
        "execution": {
          "iopub.execute_input": "2022-05-26T15:30:54.495313Z",
          "iopub.status.busy": "2022-05-26T15:30:54.494898Z",
          "iopub.status.idle": "2022-05-26T15:30:54.713078Z",
          "shell.execute_reply": "2022-05-26T15:30:54.712369Z",
          "shell.execute_reply.started": "2022-05-26T15:30:54.495280Z"
        },
        "id": "ItJaWL9EHb-0"
      },
      "outputs": [],
      "source": [
        "vectors = cv.fit_transform(new_df['tags']).toarray()"
      ]
    },
    {
      "cell_type": "code",
      "execution_count": null,
      "metadata": {
        "execution": {
          "iopub.execute_input": "2022-05-26T15:30:59.893280Z",
          "iopub.status.busy": "2022-05-26T15:30:59.892872Z",
          "iopub.status.idle": "2022-05-26T15:30:59.916357Z",
          "shell.execute_reply": "2022-05-26T15:30:59.915644Z",
          "shell.execute_reply.started": "2022-05-26T15:30:59.893247Z"
        },
        "id": "7IedhP8eHb-0",
        "outputId": "87205e33-7d6b-4bff-dc3e-8796a6afbb66"
      },
      "outputs": [
        {
          "data": {
            "text/plain": [
              "['025',\n",
              " '12',\n",
              " '16',\n",
              " '18',\n",
              " 'abdomin',\n",
              " 'abl',\n",
              " 'ach',\n",
              " 'acid',\n",
              " 'acn',\n",
              " 'acne',\n",
              " 'acquir',\n",
              " 'action',\n",
              " 'activ',\n",
              " 'acut',\n",
              " 'acute',\n",
              " 'adequ',\n",
              " 'adhd',\n",
              " 'adjunct',\n",
              " 'adolesc',\n",
              " 'adult',\n",
              " 'adults',\n",
              " 'affect',\n",
              " 'ag',\n",
              " 'age',\n",
              " 'aids',\n",
              " 'allerg',\n",
              " 'allergen',\n",
              " 'allergi',\n",
              " 'allow',\n",
              " 'alon',\n",
              " 'alzheim',\n",
              " 'alzheimer',\n",
              " 'alzheimerâ',\n",
              " 'amoebiasi',\n",
              " 'anaemia',\n",
              " 'anal',\n",
              " 'angina',\n",
              " 'angl',\n",
              " 'ani',\n",
              " 'ankylos',\n",
              " 'anorexia',\n",
              " 'anoth',\n",
              " 'anti',\n",
              " 'antioxid',\n",
              " 'antipsychot',\n",
              " 'antiretrovir',\n",
              " 'anxieti',\n",
              " 'anxiou',\n",
              " 'anxious',\n",
              " 'apnoea',\n",
              " 'appear',\n",
              " 'appetit',\n",
              " 'appetite',\n",
              " 'appli',\n",
              " 'appropri',\n",
              " 'area',\n",
              " 'arrhythmia',\n",
              " 'arrhythmiasi',\n",
              " 'arteri',\n",
              " 'arthralgia',\n",
              " 'arthriti',\n",
              " 'associ',\n",
              " 'atherothrombot',\n",
              " 'athleteâ',\n",
              " 'atop',\n",
              " 'atrial',\n",
              " 'attack',\n",
              " 'awak',\n",
              " 'b1',\n",
              " 'b2',\n",
              " 'b3',\n",
              " 'b5',\n",
              " 'b6',\n",
              " 'babi',\n",
              " 'backache',\n",
              " 'bacteri',\n",
              " 'bacteria',\n",
              " 'balanc',\n",
              " 'balanitis',\n",
              " 'bandag',\n",
              " 'becom',\n",
              " 'behaviour',\n",
              " 'beliefs',\n",
              " 'benefit',\n",
              " 'beta',\n",
              " 'biliari',\n",
              " 'biotin',\n",
              " 'bite',\n",
              " 'blackhead',\n",
              " 'blackheads',\n",
              " 'bleaches',\n",
              " 'bleed',\n",
              " 'bloating',\n",
              " 'block',\n",
              " 'blood',\n",
              " 'bodi',\n",
              " 'bodyâ',\n",
              " 'bon',\n",
              " 'bone',\n",
              " 'bones',\n",
              " 'bowel',\n",
              " 'brain',\n",
              " 'breakdown',\n",
              " 'breath',\n",
              " 'brighten',\n",
              " 'bronchiti',\n",
              " 'brown',\n",
              " 'bursitis',\n",
              " 'calcium',\n",
              " 'calm',\n",
              " 'cancer',\n",
              " 'candid',\n",
              " 'candidiasis',\n",
              " 'canâ',\n",
              " 'carbohydr',\n",
              " 'cardiovascular',\n",
              " 'care',\n",
              " 'carrier',\n",
              " 'cartilag',\n",
              " 'case',\n",
              " 'cases',\n",
              " 'cataract',\n",
              " 'caus',\n",
              " 'cavity',\n",
              " 'cell',\n",
              " 'certain',\n",
              " 'chanc',\n",
              " 'chang',\n",
              " 'characteris',\n",
              " 'chemic',\n",
              " 'chemotherapi',\n",
              " 'chest',\n",
              " 'chickenpox',\n",
              " 'childhood',\n",
              " 'children',\n",
              " 'chlosma',\n",
              " 'cholesterol',\n",
              " 'chronic',\n",
              " 'clean',\n",
              " 'cleaner',\n",
              " 'cleanser',\n",
              " 'clear',\n",
              " 'clot',\n",
              " 'cmv',\n",
              " 'cold',\n",
              " 'colds',\n",
              " 'colic',\n",
              " 'colon',\n",
              " 'colorect',\n",
              " 'coma',\n",
              " 'combin',\n",
              " 'common',\n",
              " 'complet',\n",
              " 'complexion',\n",
              " 'concomit',\n",
              " 'condit',\n",
              " 'conditions',\n",
              " 'confused',\n",
              " 'confusion',\n",
              " 'congestion',\n",
              " 'conjunct',\n",
              " 'consciousness',\n",
              " 'consid',\n",
              " 'consist',\n",
              " 'constip',\n",
              " 'constipation',\n",
              " 'constipationâ',\n",
              " 'continu',\n",
              " 'contracept',\n",
              " 'control',\n",
              " 'contusion',\n",
              " 'convent',\n",
              " 'convulsion',\n",
              " 'corpori',\n",
              " 'corticosteroid',\n",
              " 'cough',\n",
              " 'cramp',\n",
              " 'cream',\n",
              " 'cruri',\n",
              " 'cushion',\n",
              " 'cycl',\n",
              " 'cytomegaloviru',\n",
              " 'cytoprotect',\n",
              " 'd3',\n",
              " 'daili',\n",
              " 'damag',\n",
              " 'dandruff',\n",
              " 'dark',\n",
              " 'death',\n",
              " 'decreas',\n",
              " 'defici',\n",
              " 'degrad',\n",
              " 'degre',\n",
              " 'delay',\n",
              " 'demand',\n",
              " 'dementia',\n",
              " 'dental',\n",
              " 'deposit',\n",
              " 'depress',\n",
              " 'depressed',\n",
              " 'dermat',\n",
              " 'deterg',\n",
              " 'diabet',\n",
              " 'diagnost',\n",
              " 'diarrhea',\n",
              " 'diarrhoea',\n",
              " 'diet',\n",
              " 'differ',\n",
              " 'difficult',\n",
              " 'difficulti',\n",
              " 'digest',\n",
              " 'digestion',\n",
              " 'dilate',\n",
              " 'discolor',\n",
              " 'discoloured',\n",
              " 'diseas',\n",
              " 'disord',\n",
              " 'disorder',\n",
              " 'disorders',\n",
              " 'displac',\n",
              " 'distens',\n",
              " 'dizzi',\n",
              " 'doctor',\n",
              " 'doe',\n",
              " 'drain',\n",
              " 'drained',\n",
              " 'dri',\n",
              " 'drop',\n",
              " 'drowsi',\n",
              " 'drugs',\n",
              " 'dull',\n",
              " 'dure',\n",
              " 'dysmenorrhea',\n",
              " 'ear',\n",
              " 'ears',\n",
              " 'eczema',\n",
              " 'effect',\n",
              " 'effects',\n",
              " 'elbow',\n",
              " 'element',\n",
              " 'emot',\n",
              " 'encephalopathi',\n",
              " 'endometriosi',\n",
              " 'energi',\n",
              " 'energy',\n",
              " 'enhanc',\n",
              " 'enlarg',\n",
              " 'enzym',\n",
              " 'enzyme',\n",
              " 'epicondylitis',\n",
              " 'episod',\n",
              " 'especi',\n",
              " 'essenti',\n",
              " 'event',\n",
              " 'excess',\n",
              " 'exercis',\n",
              " 'exfoli',\n",
              " 'exocrin',\n",
              " 'extern',\n",
              " 'extra',\n",
              " 'eye',\n",
              " 'eyes',\n",
              " 'face',\n",
              " 'fade',\n",
              " 'fail',\n",
              " 'failur',\n",
              " 'failure',\n",
              " 'fast',\n",
              " 'fat',\n",
              " 'fatigue',\n",
              " 'fats',\n",
              " 'fatti',\n",
              " 'febril',\n",
              " 'feed',\n",
              " 'feel',\n",
              " 'feet',\n",
              " 'fever',\n",
              " 'feverish',\n",
              " 'fibril',\n",
              " 'fine',\n",
              " 'fissur',\n",
              " 'flat',\n",
              " 'flatul',\n",
              " 'flatulence',\n",
              " 'flexibl',\n",
              " 'flow',\n",
              " 'flu',\n",
              " 'fluid',\n",
              " 'flutter',\n",
              " 'focus',\n",
              " 'folic',\n",
              " 'follow',\n",
              " 'food',\n",
              " 'foot',\n",
              " 'form',\n",
              " 'format',\n",
              " 'free',\n",
              " 'fresh',\n",
              " 'friction',\n",
              " 'function',\n",
              " 'fungal',\n",
              " 'fungi',\n",
              " 'fungu',\n",
              " 'gain',\n",
              " 'gener',\n",
              " 'genit',\n",
              " 'gland',\n",
              " 'glaucoma',\n",
              " 'glow',\n",
              " 'gonorrhoea',\n",
              " 'good',\n",
              " 'gout',\n",
              " 'gradual',\n",
              " 'gravi',\n",
              " 'growth',\n",
              " 'guilty',\n",
              " 'gum',\n",
              " 'ha',\n",
              " 'haematopoiesi',\n",
              " 'haemorrhoid',\n",
              " 'haemorrhoidectomi',\n",
              " 'haemorrhoids',\n",
              " 'hair',\n",
              " 'hallucinations',\n",
              " 'hands',\n",
              " 'hard',\n",
              " 'hay',\n",
              " 'head',\n",
              " 'headach',\n",
              " 'headache',\n",
              " 'heal',\n",
              " 'health',\n",
              " 'healthy',\n",
              " 'hear',\n",
              " 'hearing',\n",
              " 'heart',\n",
              " 'heartbeat',\n",
              " 'help',\n",
              " 'hepat',\n",
              " 'herp',\n",
              " 'high',\n",
              " 'hiv',\n",
              " 'hives',\n",
              " 'hormon',\n",
              " 'hospit',\n",
              " 'human',\n",
              " 'hygien',\n",
              " 'hypercalcaemia',\n",
              " 'hyperparathyroid',\n",
              " 'hyperpigment',\n",
              " 'hyperpigmentation',\n",
              " 'hypertens',\n",
              " 'hypertension',\n",
              " 'hyperthyroid',\n",
              " 'hypertrophi',\n",
              " 'hypnosi',\n",
              " 'hypotens',\n",
              " 'hypothyroid',\n",
              " 'hypothyroidism',\n",
              " 'hyroid',\n",
              " 'ibs',\n",
              " 'immun',\n",
              " 'immunodefici',\n",
              " 'improv',\n",
              " 'improvesâ',\n",
              " 'includ',\n",
              " 'incoher',\n",
              " 'incomplet',\n",
              " 'increas',\n",
              " 'indic',\n",
              " 'indigest',\n",
              " 'induc',\n",
              " 'infect',\n",
              " 'infection',\n",
              " 'infections',\n",
              " 'infest',\n",
              " 'inflamm',\n",
              " 'inflammationâ',\n",
              " 'inflammatori',\n",
              " 'influenza',\n",
              " 'infrequ',\n",
              " 'inguinalis',\n",
              " 'inhal',\n",
              " 'inhibitor',\n",
              " 'injuri',\n",
              " 'inner',\n",
              " 'insect',\n",
              " 'insid',\n",
              " 'insomnia',\n",
              " 'insufficiencyâ',\n",
              " 'integr',\n",
              " 'intens',\n",
              " 'interdigit',\n",
              " 'intern',\n",
              " 'interrupt',\n",
              " 'intestin',\n",
              " 'intestinal',\n",
              " 'intoler',\n",
              " 'invas',\n",
              " 'involuntari',\n",
              " 'iodine',\n",
              " 'iritis',\n",
              " 'iron',\n",
              " 'irrit',\n",
              " 'isâ',\n",
              " 'itch',\n",
              " 'itâ',\n",
              " 'jewelleri',\n",
              " 'jock',\n",
              " 'joint',\n",
              " 'kidney',\n",
              " 'kit',\n",
              " 'knees',\n",
              " 'known',\n",
              " 'lack',\n",
              " 'lactat',\n",
              " 'lead',\n",
              " 'learning',\n",
              " 'left',\n",
              " 'level',\n",
              " 'lice',\n",
              " 'life',\n",
              " 'ligaments',\n",
              " 'line',\n",
              " 'lip',\n",
              " 'liquid',\n",
              " 'liv',\n",
              " 'live',\n",
              " 'liver',\n",
              " 'long',\n",
              " 'look',\n",
              " 'lose',\n",
              " 'loss',\n",
              " 'lotion',\n",
              " 'lower',\n",
              " 'lowersâ',\n",
              " 'lowerâ',\n",
              " 'lung',\n",
              " 'lvh',\n",
              " 'mainli',\n",
              " 'maintain',\n",
              " 'major',\n",
              " 'make',\n",
              " 'malari',\n",
              " 'malaria',\n",
              " 'malignancies',\n",
              " 'manag',\n",
              " 'manganese',\n",
              " 'mani',\n",
              " 'manuum',\n",
              " 'marrow',\n",
              " 'medic',\n",
              " 'medicin',\n",
              " 'melanin',\n",
              " 'melasma',\n",
              " 'mellitu',\n",
              " 'memori',\n",
              " 'men',\n",
              " 'mening',\n",
              " 'menopaus',\n",
              " 'mental',\n",
              " 'metabol',\n",
              " 'methyl',\n",
              " 'micronutri',\n",
              " 'migrain',\n",
              " 'migraine',\n",
              " 'mild',\n",
              " 'milk',\n",
              " 'miner',\n",
              " 'minor',\n",
              " 'mistaken',\n",
              " 'mobil',\n",
              " 'moder',\n",
              " 'moderate',\n",
              " 'moistur',\n",
              " 'molybdenum',\n",
              " 'motion',\n",
              " 'movement',\n",
              " 'movements',\n",
              " 'muscl',\n",
              " 'muscular',\n",
              " 'musculoskelet',\n",
              " 'myalgia',\n",
              " 'myasthenia',\n",
              " 'mydriasi',\n",
              " 'myeloid',\n",
              " 'narrow',\n",
              " 'nasal',\n",
              " 'natur',\n",
              " 'nausea',\n",
              " 'need',\n",
              " 'nephropathy',\n",
              " 'nerv',\n",
              " 'nervosa',\n",
              " 'nervousness',\n",
              " 'nettl',\n",
              " 'neuralgia',\n",
              " 'neutral',\n",
              " 'newborns',\n",
              " 'nodular',\n",
              " 'non',\n",
              " 'normal',\n",
              " 'nose',\n",
              " 'nutrient',\n",
              " 'nutrit',\n",
              " 'occur',\n",
              " 'ocular',\n",
              " 'ofâ',\n",
              " 'oili',\n",
              " 'older',\n",
              " 'onli',\n",
              " 'op',\n",
              " 'open',\n",
              " 'oper',\n",
              " 'oral',\n",
              " 'origin',\n",
              " 'osteoarthr',\n",
              " 'osteodystrophy',\n",
              " 'osteoporosi',\n",
              " 'oxid',\n",
              " 'oxidation',\n",
              " 'pah',\n",
              " 'pain',\n",
              " 'pancrea',\n",
              " 'paralys',\n",
              " 'parathyroid',\n",
              " 'parkinson',\n",
              " 'parkinsonâ',\n",
              " 'passag',\n",
              " 'patch',\n",
              " 'patches',\n",
              " 'patient',\n",
              " 'patientsâ',\n",
              " 'pectori',\n",
              " 'pectoris',\n",
              " 'pedis',\n",
              " 'pelvic',\n",
              " 'penil',\n",
              " 'peopl',\n",
              " 'peptid',\n",
              " 'period',\n",
              " 'physic',\n",
              " 'piles',\n",
              " 'pimpl',\n",
              " 'pimple',\n",
              " 'pityriasi',\n",
              " 'polysaccharid',\n",
              " 'portal',\n",
              " 'post',\n",
              " 'potent',\n",
              " 'power',\n",
              " 'pre',\n",
              " 'prednisolon',\n",
              " 'pregnanc',\n",
              " 'prematur',\n",
              " 'preoper',\n",
              " 'prescrib',\n",
              " 'prescript',\n",
              " 'present',\n",
              " 'pressur',\n",
              " 'prevent',\n",
              " 'prexia',\n",
              " 'primari',\n",
              " 'prinzmet',\n",
              " 'problem',\n",
              " 'procedur',\n",
              " 'process',\n",
              " 'proctiti',\n",
              " 'produc',\n",
              " 'product',\n",
              " 'progress',\n",
              " 'prolactin',\n",
              " 'promot',\n",
              " 'properti',\n",
              " 'protect',\n",
              " 'provid',\n",
              " 'pseudo',\n",
              " 'psychosi',\n",
              " 'psychosomat',\n",
              " 'pulmonari',\n",
              " 'pupil',\n",
              " 'pyrexia',\n",
              " 'rabi',\n",
              " 'radicals',\n",
              " 'radiculitis',\n",
              " 'rais',\n",
              " 'rarer',\n",
              " 'rash',\n",
              " 'react',\n",
              " 'reaction',\n",
              " 'receiv',\n",
              " 'recommend',\n",
              " 'red',\n",
              " 'reduc',\n",
              " 'reduct',\n",
              " 'refer',\n",
              " 'regener',\n",
              " 'regimen',\n",
              " 'relat',\n",
              " 'releief',\n",
              " 'relief',\n",
              " 'reliev',\n",
              " 'reliv',\n",
              " 'remov',\n",
              " 'renal',\n",
              " 'repair',\n",
              " 'replac',\n",
              " 'reproduct',\n",
              " 'resist',\n",
              " 'respiratori',\n",
              " 'respond',\n",
              " 'respons',\n",
              " 'restor',\n",
              " 'ret',\n",
              " 'retin',\n",
              " 'rheumat',\n",
              " 'ring',\n",
              " 'ringworm',\n",
              " 'root',\n",
              " 'rosacea',\n",
              " 'scabi',\n",
              " 'scali',\n",
              " 'scalp',\n",
              " 'scar',\n",
              " 'schizophren',\n",
              " 'schizophrenia',\n",
              " 'seborrh',\n",
              " 'sed',\n",
              " 'sedat',\n",
              " 'sens',\n",
              " 'sever',\n",
              " 'shingl',\n",
              " 'short',\n",
              " 'sick',\n",
              " 'sickness',\n",
              " 'silki',\n",
              " 'simpl',\n",
              " 'simplex',\n",
              " 'sinusitis',\n",
              " 'skelet',\n",
              " 'skin',\n",
              " 'skinâ',\n",
              " 'sleep',\n",
              " 'slow',\n",
              " 'small',\n",
              " 'smoke',\n",
              " 'smooth',\n",
              " 'soaps',\n",
              " 'soar',\n",
              " 'soft',\n",
              " 'soften',\n",
              " 'soothen',\n",
              " 'sore',\n",
              " 'sores',\n",
              " 'spasmod',\n",
              " 'speech',\n",
              " 'speed',\n",
              " 'spondyl',\n",
              " 'spot',\n",
              " 'spots',\n",
              " 'sprain',\n",
              " 'spread',\n",
              " 'stabil',\n",
              " 'starch',\n",
              " 'start',\n",
              " 'state',\n",
              " 'steroids',\n",
              " 'stiff',\n",
              " 'stomach',\n",
              " 'stools',\n",
              " 'stop',\n",
              " 'strains',\n",
              " 'strengthen',\n",
              " 'stroke',\n",
              " 'structur',\n",
              " 'substanc',\n",
              " 'suffer',\n",
              " 'sugar',\n",
              " 'sunburn',\n",
              " 'sunscreen',\n",
              " 'suppl',\n",
              " 'supplement',\n",
              " 'support',\n",
              " 'surgeri',\n",
              " 'surgeryâ',\n",
              " 'surgic',\n",
              " 'suspiciousness',\n",
              " 'sweat',\n",
              " 'swell',\n",
              " 'swelling',\n",
              " 'swollen',\n",
              " 'symptom',\n",
              " 'symptomat',\n",
              " 'symptoms',\n",
              " 'syndrom',\n",
              " 'synovi',\n",
              " 'synovitis',\n",
              " 'synthesi',\n",
              " 'synthet',\n",
              " 'syphilis',\n",
              " 'tablet',\n",
              " 'tachycardia',\n",
              " 'task',\n",
              " 'temperature',\n",
              " 'tender',\n",
              " 'tendonitis',\n",
              " 'tens',\n",
              " 'term',\n",
              " 'textur',\n",
              " 'therapi',\n",
              " 'therebi',\n",
              " 'thi',\n",
              " 'thing',\n",
              " 'throat',\n",
              " 'thrombolysi',\n",
              " 'thrush',\n",
              " 'thu',\n",
              " 'thyroid',\n",
              " 'thyroxin',\n",
              " 'time',\n",
              " 'tinea',\n",
              " 'tinnitus',\n",
              " 'tissu',\n",
              " 'tissues',\n",
              " 'toe',\n",
              " 'tone',\n",
              " 'tonsil',\n",
              " 'tonsilitis',\n",
              " 'tonsillectomi',\n",
              " 'toothach',\n",
              " 'toothache',\n",
              " 'topic',\n",
              " 'trace',\n",
              " 'tract',\n",
              " 'transmit',\n",
              " 'transplant',\n",
              " 'trauma',\n",
              " 'traumat',\n",
              " 'travel',\n",
              " 'treat',\n",
              " 'treatment',\n",
              " 'treatsâ',\n",
              " 'treatâ',\n",
              " 'tremor',\n",
              " 'triglycerid',\n",
              " 'tubercular',\n",
              " 'type',\n",
              " 'ulcer',\n",
              " 'unabl',\n",
              " 'unbalanc',\n",
              " 'uncompl',\n",
              " 'uneven',\n",
              " 'unstabl',\n",
              " 'unusu',\n",
              " 'unwant',\n",
              " 'upper',\n",
              " 'uptak',\n",
              " 'urate',\n",
              " 'uretericâ',\n",
              " 'uric',\n",
              " 'urinaryâ',\n",
              " 'use',\n",
              " 'uses',\n",
              " 'usual',\n",
              " 'uveiti',\n",
              " 'vaccin',\n",
              " 'vagin',\n",
              " 'variant',\n",
              " 'varieti',\n",
              " 'ventricular',\n",
              " 'verruca',\n",
              " 'versicolor',\n",
              " 'vertigo',\n",
              " 'vessel',\n",
              " 'viral',\n",
              " 'viru',\n",
              " 'virus',\n",
              " 'vitamin',\n",
              " 'vitamins',\n",
              " 'volume',\n",
              " 'vomit',\n",
              " 'vulgari',\n",
              " 'vulgarisâ',\n",
              " 'wall',\n",
              " 'wart',\n",
              " 'wash',\n",
              " 'weak',\n",
              " 'weaken',\n",
              " 'weight',\n",
              " 'wet',\n",
              " 'whichâ',\n",
              " 'whilst',\n",
              " 'white',\n",
              " 'widen',\n",
              " 'withdrawn',\n",
              " 'womb',\n",
              " 'women',\n",
              " 'work',\n",
              " 'worsen',\n",
              " 'wound',\n",
              " 'wrinkl',\n",
              " 'wrinkles',\n",
              " 'year',\n",
              " 'younger',\n",
              " 'zinc',\n",
              " 'œpancreat']"
            ]
          },
          "execution_count": 107,
          "metadata": {},
          "output_type": "execute_result"
        }
      ],
      "source": [
        "cv.get_feature_names()"
      ]
    },
    {
      "cell_type": "markdown",
      "metadata": {
        "id": "fVVWL66XHb-0"
      },
      "source": [
        "# Measuring Cosine Similarity"
      ]
    },
    {
      "cell_type": "code",
      "execution_count": null,
      "metadata": {
        "execution": {
          "iopub.execute_input": "2022-05-26T15:31:06.364175Z",
          "iopub.status.busy": "2022-05-26T15:31:06.363737Z",
          "iopub.status.idle": "2022-05-26T15:31:06.368475Z",
          "shell.execute_reply": "2022-05-26T15:31:06.367582Z",
          "shell.execute_reply.started": "2022-05-26T15:31:06.364142Z"
        },
        "id": "bECcwCT8Hb-0"
      },
      "outputs": [],
      "source": [
        "from sklearn.metrics.pairwise import cosine_similarity"
      ]
    },
    {
      "cell_type": "code",
      "execution_count": null,
      "metadata": {
        "execution": {
          "iopub.execute_input": "2022-05-26T15:31:12.307965Z",
          "iopub.status.busy": "2022-05-26T15:31:12.307555Z",
          "iopub.status.idle": "2022-05-26T15:31:13.947035Z",
          "shell.execute_reply": "2022-05-26T15:31:13.946057Z",
          "shell.execute_reply.started": "2022-05-26T15:31:12.307931Z"
        },
        "id": "qMxx1ZsSHb-1",
        "outputId": "a5b4b4e1-db41-4c5a-8590-b7c9393400b7"
      },
      "outputs": [
        {
          "data": {
            "text/plain": [
              "array([[1.        , 0.25197632, 0.43643578, ..., 0.        , 0.        ,\n",
              "        0.        ],\n",
              "       [0.25197632, 1.        , 0.25660012, ..., 0.19245009, 0.1490712 ,\n",
              "        0.0860663 ],\n",
              "       [0.43643578, 0.25660012, 1.        , ..., 0.11111111, 0.0860663 ,\n",
              "        0.0993808 ],\n",
              "       ...,\n",
              "       [0.        , 0.19245009, 0.11111111, ..., 1.        , 0.77459667,\n",
              "        0.2981424 ],\n",
              "       [0.        , 0.1490712 , 0.0860663 , ..., 0.77459667, 1.        ,\n",
              "        0.34641016],\n",
              "       [0.        , 0.0860663 , 0.0993808 , ..., 0.2981424 , 0.34641016,\n",
              "        1.        ]])"
            ]
          },
          "execution_count": 109,
          "metadata": {},
          "output_type": "execute_result"
        }
      ],
      "source": [
        "cosine_similarity(vectors)"
      ]
    },
    {
      "cell_type": "code",
      "execution_count": null,
      "metadata": {
        "execution": {
          "iopub.execute_input": "2022-05-26T15:31:20.837817Z",
          "iopub.status.busy": "2022-05-26T15:31:20.837383Z",
          "iopub.status.idle": "2022-05-26T15:31:22.665373Z",
          "shell.execute_reply": "2022-05-26T15:31:22.663586Z",
          "shell.execute_reply.started": "2022-05-26T15:31:20.837784Z"
        },
        "id": "r4AXQEeXHb-1"
      },
      "outputs": [],
      "source": [
        "similarity = cosine_similarity(vectors)"
      ]
    },
    {
      "cell_type": "code",
      "execution_count": null,
      "metadata": {
        "execution": {
          "iopub.execute_input": "2022-05-26T15:31:25.762261Z",
          "iopub.status.busy": "2022-05-26T15:31:25.761176Z",
          "iopub.status.idle": "2022-05-26T15:31:25.771667Z",
          "shell.execute_reply": "2022-05-26T15:31:25.770795Z",
          "shell.execute_reply.started": "2022-05-26T15:31:25.762222Z"
        },
        "id": "Gzf6_H0THb-2",
        "outputId": "cf5fee25-84ef-4796-acfd-b0cd79d45670"
      },
      "outputs": [
        {
          "data": {
            "text/plain": [
              "array([0.43643578, 0.25660012, 1.        , ..., 0.11111111, 0.0860663 ,\n",
              "       0.0993808 ])"
            ]
          },
          "execution_count": 132,
          "metadata": {},
          "output_type": "execute_result"
        }
      ],
      "source": [
        "similarity[3]"
      ]
    },
    {
      "cell_type": "markdown",
      "metadata": {
        "id": "D54FTxC7Hb_j"
      },
      "source": [
        "# Recommendation of similar medicines for common illness"
      ]
    },
    {
      "cell_type": "code",
      "execution_count": null,
      "metadata": {
        "execution": {
          "iopub.execute_input": "2022-05-26T15:31:40.159068Z",
          "iopub.status.busy": "2022-05-26T15:31:40.158323Z",
          "iopub.status.idle": "2022-05-26T15:31:40.166757Z",
          "shell.execute_reply": "2022-05-26T15:31:40.165868Z",
          "shell.execute_reply.started": "2022-05-26T15:31:40.159020Z"
        },
        "id": "aDLewZLXHb_k"
      },
      "outputs": [],
      "source": [
        "def recommend(medicine):\n",
        "    medicine_index = new_df[new_df['Drug_Name'] == medicine].index[0]\n",
        "    distances = similarity[medicine_index]\n",
        "    medicines_list = sorted(list(enumerate(distances)),reverse=True,key=lambda x:x[1])[1:6]\n",
        "    \n",
        "    for i in medicines_list:\n",
        "        print(new_df.iloc[i[0]].Drug_Name)\n",
        "    "
      ]
    },
    {
      "cell_type": "code",
      "execution_count": null,
      "metadata": {
        "execution": {
          "iopub.execute_input": "2022-05-26T15:31:57.566701Z",
          "iopub.status.busy": "2022-05-26T15:31:57.565934Z",
          "iopub.status.idle": "2022-05-26T15:31:57.589837Z",
          "shell.execute_reply": "2022-05-26T15:31:57.588991Z",
          "shell.execute_reply.started": "2022-05-26T15:31:57.566659Z"
        },
        "id": "0k3YLkceHb_k",
        "outputId": "40c0bb50-0360-428d-fec4-e2a10f26f60c"
      },
      "outputs": [
        {
          "name": "stdout",
          "output_type": "stream",
          "text": [
            "3A 500mg Tablet 3's3A 250mg Tablet 6's\n",
            "Abact 500mg Tablet 10'S\n",
            "Abendol Tablet 1'S\n",
            "Adflox Oz Tablet 10's\n",
            "Aequimox 250Mg Capsule 10'sAequimox 500Mg Capsule 10's\n"
          ]
        }
      ],
      "source": [
        "recommend(\"Abendol Tablet 1'S\")"
      ]
    },
    {
      "cell_type": "code",
      "execution_count": null,
      "metadata": {
        "execution": {
          "iopub.execute_input": "2022-05-26T15:32:35.447060Z",
          "iopub.status.busy": "2022-05-26T15:32:35.446511Z",
          "iopub.status.idle": "2022-05-26T15:32:35.451544Z",
          "shell.execute_reply": "2022-05-26T15:32:35.450612Z",
          "shell.execute_reply.started": "2022-05-26T15:32:35.447016Z"
        },
        "id": "a8nPlKlwHb_l"
      },
      "outputs": [],
      "source": [
        "import pickle"
      ]
    },
    {
      "cell_type": "code",
      "execution_count": null,
      "metadata": {
        "execution": {
          "iopub.execute_input": "2022-05-26T15:32:53.662097Z",
          "iopub.status.busy": "2022-05-26T15:32:53.661648Z",
          "iopub.status.idle": "2022-05-26T15:32:56.474199Z",
          "shell.execute_reply": "2022-05-26T15:32:56.473238Z",
          "shell.execute_reply.started": "2022-05-26T15:32:53.662065Z"
        },
        "id": "WHisxPeRHb_l"
      },
      "outputs": [],
      "source": [
        "pickle.dump(new_df.to_dict(),open('medicine_dict.pkl','wb'))"
      ]
    },
    {
      "cell_type": "code",
      "execution_count": null,
      "metadata": {
        "id": "Ge1v862cHb_m"
      },
      "outputs": [],
      "source": [
        "pickle.dump(similarity,open('similarity.pkl','wb'))"
      ]
    }
  ],
  "metadata": {
    "kernelspec": {
      "display_name": "Python 3",
      "language": "python",
      "name": "python3"
    },
    "language_info": {
      "codemirror_mode": {
        "name": "ipython",
        "version": 3
      },
      "file_extension": ".py",
      "mimetype": "text/x-python",
      "name": "python",
      "nbconvert_exporter": "python",
      "pygments_lexer": "ipython3",
      "version": "3.8.3"
    },
    "colab": {
      "provenance": []
    }
  },
  "nbformat": 4,
  "nbformat_minor": 0
}